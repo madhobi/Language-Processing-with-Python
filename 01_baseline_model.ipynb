{
 "cells": [
  {
   "cell_type": "markdown",
   "id": "1b25c664-d5cc-40d6-a90f-51e7b7e0bbf0",
   "metadata": {},
   "source": [
    "In this notebook, I train a Logistic Regression model to set up a baseline for the IMDB review classification task. Following are the steps I made:\n",
    "* download and extract the dataset\n",
    "* each review is a separate txt file, I prepare them as train and test dataframes\n",
    "* use CountVectorizer to convert the data to bag-of-word format\n",
    "* train and test the model"
   ]
  },
  {
   "cell_type": "code",
   "execution_count": 7,
   "id": "1b08115e-ee82-4d7a-bfe9-0a90f02e2fe1",
   "metadata": {},
   "outputs": [],
   "source": [
    "# !curl -O  http://ai.stanford.edu/~amaas/data/sentiment/aclImdb_v1.tar.gz"
   ]
  },
  {
   "cell_type": "code",
   "execution_count": 6,
   "id": "27e67c36-f6e4-4206-9352-2ca0719c57d7",
   "metadata": {},
   "outputs": [],
   "source": [
    "# !tar -xf aclImdb_v1.tar.gz"
   ]
  },
  {
   "cell_type": "code",
   "execution_count": 5,
   "id": "727c36a8-98bd-478e-bb49-6565a9aa9bf1",
   "metadata": {},
   "outputs": [],
   "source": [
    "# !rm -r aclImdb/train/unsup"
   ]
  },
  {
   "cell_type": "markdown",
   "id": "aabb6947-000d-4b04-b6c7-04940ead8323",
   "metadata": {},
   "source": [
    "##### Importing necessary libraries"
   ]
  },
  {
   "cell_type": "code",
   "execution_count": 82,
   "id": "688350ce-0f84-4b1b-8945-6538c4f0f4c7",
   "metadata": {},
   "outputs": [],
   "source": [
    "import warnings\n",
    "warnings.filterwarnings(\"ignore\")"
   ]
  },
  {
   "cell_type": "markdown",
   "id": "7cd2e7fb-df63-4da8-9c77-9463773de73d",
   "metadata": {},
   "source": [
    "<!-- The dataset has separate directory for train and test. I want  -->"
   ]
  },
  {
   "cell_type": "code",
   "execution_count": 55,
   "id": "9df3ba55-eeb4-40ab-8073-e393a94c736b",
   "metadata": {},
   "outputs": [],
   "source": [
    "import os, shutil, pathlib, random\n",
    "import numpy as np\n",
    "import pandas as pd"
   ]
  },
  {
   "cell_type": "code",
   "execution_count": 84,
   "id": "90240c05-cd12-4924-8ed0-570579be2101",
   "metadata": {},
   "outputs": [],
   "source": [
    "from sklearn.feature_extraction.text import CountVectorizer\n",
    "from sklearn.model_selection import train_test_split\n",
    "from sklearn.linear_model import LogisticRegression"
   ]
  },
  {
   "cell_type": "markdown",
   "id": "dd421ce0-8096-4a8b-8547-d16ad42d541b",
   "metadata": {},
   "source": [
    "##### Read the reviews and put them in dataframe"
   ]
  },
  {
   "cell_type": "code",
   "execution_count": 56,
   "id": "cef07eca-1f17-41e7-8009-ff9b8da02e39",
   "metadata": {},
   "outputs": [],
   "source": [
    "def load_data(dirpath):\n",
    "    score = {'pos':1, 'neg':0}\n",
    "    data = []    \n",
    "    for category in ('pos', 'neg'):\n",
    "        filenames = os.listdir(dirpath/category)\n",
    "        # print(len(filenames))\n",
    "        for fname in filenames:\n",
    "            # print(fname)\n",
    "            # file = open(filename, encoding=\"utf8\")\n",
    "            # review = file.read()\n",
    "            with open(os.path.join(dirpath/category, fname), \"r\", encoding=\"utf8\") as f:\n",
    "                review = f.read()\n",
    "                # print(review)\n",
    "                data.append([review, score[category]])\n",
    "            # break\n",
    "        # break\n",
    "    # print(data)\n",
    "    np.random.shuffle(data)\n",
    "    data = pd.DataFrame(data, columns=['text', 'sentiment'])\n",
    "    return data"
   ]
  },
  {
   "cell_type": "code",
   "execution_count": 57,
   "id": "27b771a2-38ba-4bab-b0f1-b87bdb028259",
   "metadata": {},
   "outputs": [
    {
     "name": "stdout",
     "output_type": "stream",
     "text": [
      "train data len:  25000\n",
      "test data size:  25000\n"
     ]
    }
   ],
   "source": [
    "basedir = pathlib.Path('aclImdb')\n",
    "train_dir = basedir/'train'\n",
    "test_dir = basedir/'test'\n",
    "train_data = load_data(train_dir)\n",
    "test_data = load_data(test_dir)\n",
    "print(\"train data len: \", len(train_data))\n",
    "print(\"test data size: \", len(test_data))"
   ]
  },
  {
   "cell_type": "code",
   "execution_count": 85,
   "id": "0da40f96-b226-4dfd-925e-0c28b5428218",
   "metadata": {},
   "outputs": [],
   "source": [
    "# train_data, val_data = train_test_split(train_data, test_size=0.2, random_state=43)\n",
    "# print(\"train data len: \", len(train_data))\n",
    "# print(\"val data size: \", len(val_data))"
   ]
  },
  {
   "cell_type": "markdown",
   "id": "e4a56eb6-dad8-49a1-9c44-3c5b59fb13aa",
   "metadata": {},
   "source": [
    "Checking the first few reviews"
   ]
  },
  {
   "cell_type": "code",
   "execution_count": 63,
   "id": "fd9a597c-2cb8-431c-b983-64ad51167c00",
   "metadata": {},
   "outputs": [
    {
     "data": {
      "text/html": [
       "<div>\n",
       "<style scoped>\n",
       "    .dataframe tbody tr th:only-of-type {\n",
       "        vertical-align: middle;\n",
       "    }\n",
       "\n",
       "    .dataframe tbody tr th {\n",
       "        vertical-align: top;\n",
       "    }\n",
       "\n",
       "    .dataframe thead th {\n",
       "        text-align: right;\n",
       "    }\n",
       "</style>\n",
       "<table border=\"1\" class=\"dataframe\">\n",
       "  <thead>\n",
       "    <tr style=\"text-align: right;\">\n",
       "      <th></th>\n",
       "      <th>text</th>\n",
       "      <th>sentiment</th>\n",
       "    </tr>\n",
       "  </thead>\n",
       "  <tbody>\n",
       "    <tr>\n",
       "      <th>16715</th>\n",
       "      <td>Now i really liked this movie, it was so funny...</td>\n",
       "      <td>1</td>\n",
       "    </tr>\n",
       "    <tr>\n",
       "      <th>18404</th>\n",
       "      <td>this is the best sci-fi that I have seen in my...</td>\n",
       "      <td>1</td>\n",
       "    </tr>\n",
       "    <tr>\n",
       "      <th>24558</th>\n",
       "      <td>Welcome to movie 17 on the chilling classics 5...</td>\n",
       "      <td>0</td>\n",
       "    </tr>\n",
       "    <tr>\n",
       "      <th>24922</th>\n",
       "      <td>I first saw the trailer for Frailty on Yahoo M...</td>\n",
       "      <td>1</td>\n",
       "    </tr>\n",
       "    <tr>\n",
       "      <th>3364</th>\n",
       "      <td>Poor Paul Mercurio. After landing the role of ...</td>\n",
       "      <td>0</td>\n",
       "    </tr>\n",
       "  </tbody>\n",
       "</table>\n",
       "</div>"
      ],
      "text/plain": [
       "                                                    text  sentiment\n",
       "16715  Now i really liked this movie, it was so funny...          1\n",
       "18404  this is the best sci-fi that I have seen in my...          1\n",
       "24558  Welcome to movie 17 on the chilling classics 5...          0\n",
       "24922  I first saw the trailer for Frailty on Yahoo M...          1\n",
       "3364   Poor Paul Mercurio. After landing the role of ...          0"
      ]
     },
     "execution_count": 63,
     "metadata": {},
     "output_type": "execute_result"
    }
   ],
   "source": [
    "train_data.head()"
   ]
  },
  {
   "cell_type": "markdown",
   "id": "c8cfb4b4-7a49-4d83-8cbb-86d37a92fdf2",
   "metadata": {},
   "source": [
    "CountVectorizer takes care of tokenization and vocabulary creation. I'll fit the vectorizer on the train set and use it for both train and test set."
   ]
  },
  {
   "cell_type": "code",
   "execution_count": 75,
   "id": "d583ae90-e03e-4be1-9946-c8122d34ebf0",
   "metadata": {},
   "outputs": [],
   "source": [
    "vectorizer = CountVectorizer(stop_words='english')\n",
    "vectorizer.fit(train_data['text'])\n",
    "\n",
    "vectorized_train = vectorizer.transform(train_data['text'])\n",
    "vectorized_val  = vectorizer.transform(val_data['text'])\n",
    "vectorized_test  = vectorizer.transform(test_data['text'])"
   ]
  },
  {
   "cell_type": "code",
   "execution_count": 86,
   "id": "2e4a1dc5-25f3-4f38-b3d0-5124df6969d0",
   "metadata": {},
   "outputs": [],
   "source": [
    "# type(vectorized_train)"
   ]
  },
  {
   "cell_type": "markdown",
   "id": "eb1ff53d-e7ec-4488-b00c-dcadc39b57a3",
   "metadata": {},
   "source": [
    "#### Baseline model\n",
    "My baseline model is a simple LogisticRegression model."
   ]
  },
  {
   "cell_type": "code",
   "execution_count": 83,
   "id": "28bd5047-61ff-40c4-92c3-3d27e0bccda3",
   "metadata": {},
   "outputs": [
    {
     "name": "stdout",
     "output_type": "stream",
     "text": [
      "Accuracy: 0.85792\n"
     ]
    }
   ],
   "source": [
    "model = LogisticRegression(random_state=11, max_iter=200)\n",
    "model.fit(vectorized_train, train_data[\"sentiment\"])\n",
    "score = model.score(vectorized_test, test_data[\"sentiment\"])\n",
    "print(\"Accuracy:\", score)"
   ]
  },
  {
   "cell_type": "markdown",
   "id": "1dc8565f-cd44-47a0-8ce9-b84ab737d139",
   "metadata": {},
   "source": [
    "> Note: with the baseline model, we acieved an accuracy of around 85.8%."
   ]
  },
  {
   "cell_type": "markdown",
   "id": "1a37eccf-6244-4a66-be19-02492483a8db",
   "metadata": {},
   "source": [
    "Plotting confusion matrix to check the model performance for each category"
   ]
  },
  {
   "cell_type": "code",
   "execution_count": 79,
   "id": "3e8548e1-b41c-467c-abf6-816e92c8d71b",
   "metadata": {},
   "outputs": [
    {
     "data": {
      "text/plain": [
       "array([[10788,  1712],\n",
       "       [ 1840, 10660]], dtype=int64)"
      ]
     },
     "execution_count": 79,
     "metadata": {},
     "output_type": "execute_result"
    }
   ],
   "source": [
    "from sklearn import metrics\n",
    "\n",
    "sentiment_pred = model.predict(vectorized_test)\n",
    "cnf_matrix = metrics.confusion_matrix(test_data['sentiment'], sentiment_pred)\n",
    "cnf_matrix"
   ]
  },
  {
   "cell_type": "code",
   "execution_count": 81,
   "id": "44c67925-9b20-4b55-a4f9-1f4332b33677",
   "metadata": {},
   "outputs": [
    {
     "data": {
      "image/png": "[encoded data removed]",
      "text/plain": [
       "<Figure size 640x480 with 2 Axes>"
      ]
     },
     "metadata": {},
     "output_type": "display_data"
    }
   ],
   "source": [
    "import matplotlib.pyplot as plt\n",
    "import seaborn as sns\n",
    "\n",
    "class_names=[0,1] # name  of classes\n",
    "fig, ax = plt.subplots()\n",
    "tick_marks = np.arange(len(class_names))\n",
    "plt.xticks(tick_marks, class_names)\n",
    "plt.yticks(tick_marks, class_names)\n",
    "# create heatmap\n",
    "sns.heatmap(pd.DataFrame(cnf_matrix), annot=True, cmap=\"YlGnBu\" ,fmt='g')\n",
    "ax.xaxis.set_label_position(\"top\")\n",
    "plt.tight_layout()\n",
    "plt.title('Confusion matrix')\n",
    "plt.ylabel('Actual label')\n",
    "plt.xlabel('Predicted label')\n",
    "plt.show()"
   ]
  },
  {
   "cell_type": "markdown",
   "id": "f741c271-7cad-44b6-a305-d6b304eae611",
   "metadata": {},
   "source": [
    "> Note: checking the confusion matrix can help to identify if the model is more making mistakes for a specific cetegory or not. In this case, the data being balanced, this does not seem to be an issue."
   ]
  },
  {
   "cell_type": "code",
   "execution_count": null,
   "id": "423d84fb-98ff-4301-b7b9-b8dbc8c7c7c1",
   "metadata": {},
   "outputs": [],
   "source": []
  }
 ],
 "metadata": {
  "kernelspec": {
   "display_name": "madhobi-dl-1",
   "language": "python",
   "name": "madhobi-dl-1"
  },
  "language_info": {
   "codemirror_mode": {
    "name": "ipython",
    "version": 3
   },
   "file_extension": ".py",
   "mimetype": "text/x-python",
   "name": "python",
   "nbconvert_exporter": "python",
   "pygments_lexer": "ipython3",
   "version": "3.11.3"
  }
 },
 "nbformat": 4,
 "nbformat_minor": 5
}
