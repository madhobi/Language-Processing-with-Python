{
 "cells": [
  {
   "cell_type": "markdown",
   "id": "552f8af7-b232-48d3-b5c5-43295744aa46",
   "metadata": {},
   "source": [
    "In this notebook, I use neural networks to classify the IMDB reviews. Following are the steps I made:\n",
    "* organize the folder to work with keras\n",
    "* use keras TextVectorization to convert the data to bag-of-word format\n",
    "* train and test with 1-gram and bigram models\n",
    "* monitor the evaluation metrics\n",
    "* regularize to handle overfitting"
   ]
  },
  {
   "cell_type": "code",
   "execution_count": 31,
   "id": "5d8767eb-d298-4812-a722-0af8ea69b874",
   "metadata": {},
   "outputs": [],
   "source": [
    "from tensorflow import keras\n",
    "from tensorflow.keras import layers\n",
    "from tensorflow.keras.layers import TextVectorization\n",
    "import os, shutil, pathlib, random\n",
    "\n",
    "import warnings\n",
    "warnings.filterwarnings(\"ignore\")"
   ]
  },
  {
   "cell_type": "markdown",
   "id": "a179324e-fd4d-4cc2-9975-376649a22ba1",
   "metadata": {},
   "source": [
    "For training with keras, I'll need to organize the dataset in certain folder structure. Then I can directly use keras utils library to create the datasets for train, test and validation."
   ]
  },
  {
   "cell_type": "code",
   "execution_count": 2,
   "id": "32caa267-e48b-4d0f-b8d6-0978fdad9341",
   "metadata": {},
   "outputs": [],
   "source": [
    "basedir = pathlib.Path('aclImdb')\n",
    "train_dir = basedir/'train'\n",
    "test_dir = basedir/'test'\n",
    "val_dir = basedir/'val'\n",
    "for category in ('neg', 'pos'):\n",
    "    if not os.path.exists(val_dir/category):\n",
    "        os.makedirs(val_dir/category)\n",
    "    files = os.listdir(train_dir/category)\n",
    "    random.Random(1337).shuffle(files)\n",
    "    num_val_samples = int(0.2 * len(files))\n",
    "    val_files = files[-num_val_samples:]\n",
    "    for fname in val_files:\n",
    "        shutil.move(train_dir/category/fname, val_dir/category/fname)"
   ]
  },
  {
   "cell_type": "code",
   "execution_count": 3,
   "id": "999c5e4f-588f-4069-852c-56e6351ef9b2",
   "metadata": {},
   "outputs": [
    {
     "name": "stdout",
     "output_type": "stream",
     "text": [
      "Found 16000 files belonging to 2 classes.\n",
      "Found 9000 files belonging to 2 classes.\n",
      "Found 25000 files belonging to 2 classes.\n"
     ]
    }
   ],
   "source": [
    "batch_size = 32\n",
    "train_ds = keras.utils.text_dataset_from_directory(train_dir, batch_size=batch_size)\n",
    "val_ds = keras.utils.text_dataset_from_directory(val_dir, batch_size=batch_size)\n",
    "test_ds = keras.utils.text_dataset_from_directory(test_dir, batch_size=batch_size)"
   ]
  },
  {
   "cell_type": "markdown",
   "id": "0fd547a8-83cd-48c6-9a28-6674cf2328b5",
   "metadata": {},
   "source": [
    "Checking one instance of the dataset"
   ]
  },
  {
   "cell_type": "code",
   "execution_count": 4,
   "id": "83ebb77f-8b24-43e4-82c1-afd275e13d63",
   "metadata": {},
   "outputs": [
    {
     "name": "stdout",
     "output_type": "stream",
     "text": [
      "input.shape: (32,)\n",
      "input.dtype: <dtype: 'string'>\n",
      "target.shape: (32,)\n",
      "target.dtype: <dtype: 'int32'>\n",
      "input[0]: tf.Tensor(b\"I'm grateful for one thing and one thing only - that this woman will now be thousands of miles away on an entirely different continent!!! Yay!!! This programme summed up perfectly just how obsessed Victoria Beckham has become with whoring herself and her family out to the media in the name of self promotion and 'Brand f*cking Beckham'.<br /><br />A few years ago I used to really like 'Posh and Becks', I still very much admire David's talent, but I have no respect for him anymore. How can you respect someone who has his wife's hand shoved up his backside working him like a puppet.<br /><br />It was clear the hand of Victoria was all over Beckham's premature departure from Manchester United and now the same thing has happened at Real Madrid. I hope Beckham can live with the fact that although he may be earning squillions of pounds - he's sold his soul for the American Buck and will end his days playing for a team who would struggle to gain promotion from Division One in England (no offence America - but at Baseball and Basketball you rule - football you don't!) <br /><br />Anyway - I digress. It's been years since I've seen such an over-the-top, entirely false performance from 'Posh' - this being topped only during her cringe worthy red carpet performances following the Rebecca Loos 'debacle', when instead of throwing all the cr*p at David he deserved, she desperately clung onto his arm trying to save the million pound money-spinner her marriage has become.<br /><br />This whole PR stunt was pathetic. Why can't she just go over there quietly, support her husband through the biggest mistake of his professional career and keep her head down? When did she become so full of self importance that she feels the move to America should be shrouded by this huge fan fare? <br /><br />Incidentally, I saw the David Beckham documentary last night. At least he has retained a sliver of grace and humility. Two things his wife could do with learning.<br /><br />One more thing Victoria - you complain about constantly being hounded by the paps. Little hint - stop tipping them off about your whereabouts you stupid woman.<br /><br />Good Luck America!!\", shape=(), dtype=string)\n",
      "target[0]: tf.Tensor(0, shape=(), dtype=int32)\n"
     ]
    }
   ],
   "source": [
    "for inputs, targets in train_ds:\n",
    "    print('input.shape:', inputs.shape)\n",
    "    print('input.dtype:', inputs.dtype)\n",
    "    print('target.shape:', targets.shape)\n",
    "    print('target.dtype:', targets.dtype)\n",
    "    print('input[0]:', inputs[0])\n",
    "    print('target[0]:', targets[0])\n",
    "    break"
   ]
  },
  {
   "cell_type": "markdown",
   "id": "aa966099-16c0-45c2-878c-1c5412cfd8a7",
   "metadata": {},
   "source": [
    "##### Creating vocabulary\n",
    "- keras TextVectorization will take care of the tokenization part\n",
    "- We'll create the vocabulary using only the train dataset and use this vocabulary set for all the datasets including validation and test."
   ]
  },
  {
   "cell_type": "code",
   "execution_count": 5,
   "id": "7626ca90-322c-48d5-991c-13ac55173888",
   "metadata": {},
   "outputs": [],
   "source": [
    "def get_vectorized_dataset(train_ds, val_ds, test_ds, output_mode, ngrams=2, max_token=20000):\n",
    "    \n",
    "    text_vectorization = TextVectorization(\n",
    "        ngrams = ngrams,\n",
    "        max_tokens = 20000,\n",
    "        output_mode = output_mode\n",
    "    ) \n",
    "    # separating the text part to pass it to the TextVectorization\n",
    "    text_only_train_ds = train_ds.map(lambda x,y : x)\n",
    "    text_vectorization.adapt(text_only_train_ds)\n",
    "    \n",
    "    review_vocab = text_vectorization.get_vocabulary()\n",
    "    print(\"Length of the vocabulary: \", len(review_vocab))\n",
    "    print(\"First 10 words in the vocabulary: \", review_vocab[:10])\n",
    "    print(\"Last 10 words in the vocabulary: \", review_vocab[-10:])\n",
    "    \n",
    "    vectorized_train_ds = train_ds.map(lambda x,y : (text_vectorization(x), y),\n",
    "                                    num_parallel_calls = 4)\n",
    "    vectorized_val_ds = val_ds.map(lambda x,y : (text_vectorization(x), y),\n",
    "                                        num_parallel_calls = 4)\n",
    "    vectorized_test_ds = test_ds.map(lambda x,y : (text_vectorization(x), y),\n",
    "                                    num_parallel_calls = 4)\n",
    "    \n",
    "    return vectorized_train_ds, vectorized_val_ds, vectorized_test_ds"
   ]
  },
  {
   "cell_type": "code",
   "execution_count": 1,
   "id": "893a9ee1-d391-4e3a-bf33-0d232d6a39af",
   "metadata": {},
   "outputs": [],
   "source": [
    "def get_model(max_tokens=20000, hidden_dim=16):\n",
    "    inputs = keras.Input(shape=(max_tokens,))    \n",
    "    x = layers.Dense(hidden_dim, activation='relu')(inputs)  \n",
    "    outputs = layers.Dense(1, activation='sigmoid')(x)\n",
    "    model = keras.Model(inputs, outputs)\n",
    "    model.compile(optimizer='rmsprop',\n",
    "                 loss='binary_crossentropy',\n",
    "                 metrics=['accuracy'])\n",
    "    return model"
   ]
  },
  {
   "cell_type": "markdown",
   "id": "6d048be9-7dbe-4923-adaa-7115b538dca8",
   "metadata": {},
   "source": [
    "#### 1-gram model"
   ]
  },
  {
   "cell_type": "markdown",
   "id": "ed753a1d-8b84-472a-835c-f834e9beb120",
   "metadata": {},
   "source": [
    "Prepapring dataset for 1-gram model\n",
    "* passing ngrams = 1\n",
    "* there are a number of choices for the output_mode, I am using muti-hot encoding here"
   ]
  },
  {
   "cell_type": "code",
   "execution_count": 40,
   "id": "a27810c9-535f-410f-9218-33cecead9e4d",
   "metadata": {},
   "outputs": [
    {
     "name": "stdout",
     "output_type": "stream",
     "text": [
      "Length of the vocabulary:  20000\n",
      "First 10 words in the vocabulary:  ['[UNK]', 'the', 'and', 'a', 'of', 'to', 'is', 'in', 'it', 'i']\n",
      "Last 10 words in the vocabulary:  ['duplicitous', 'duos', 'dunk', 'duller', 'dues', 'ducktales', 'dtv', 'drying', 'drool', 'drones']\n"
     ]
    }
   ],
   "source": [
    "vectorized_train_ds, vectorized_val_ds, vectorized_test_ds = get_vectorized_dataset(train_ds, val_ds, test_ds, output_mode='multi_hot', ngrams=1, max_token=20000)"
   ]
  },
  {
   "cell_type": "markdown",
   "id": "bd988ece-4457-45ce-9736-b81e5767de98",
   "metadata": {},
   "source": [
    "##### create 1-gram model"
   ]
  },
  {
   "cell_type": "code",
   "execution_count": 39,
   "id": "c5208dba-6dfe-409a-835c-af8db9d41974",
   "metadata": {},
   "outputs": [
    {
     "name": "stdout",
     "output_type": "stream",
     "text": [
      "Model: \"model_7\"\n",
      "_________________________________________________________________\n",
      " Layer (type)                Output Shape              Param #   \n",
      "=================================================================\n",
      " input_9 (InputLayer)        [(None, 20000)]           0         \n",
      "                                                                 \n",
      " dense_16 (Dense)            (None, 16)                320016    \n",
      "                                                                 \n",
      " dense_17 (Dense)            (None, 1)                 17        \n",
      "                                                                 \n",
      "=================================================================\n",
      "Total params: 320,033\n",
      "Trainable params: 320,033\n",
      "Non-trainable params: 0\n",
      "_________________________________________________________________\n"
     ]
    }
   ],
   "source": [
    "model = get_model()\n",
    "model.summary()"
   ]
  },
  {
   "cell_type": "markdown",
   "id": "a7c8774a-5f77-47e7-8df5-3797b320df72",
   "metadata": {},
   "source": [
    "##### Train the 1-gram model"
   ]
  },
  {
   "cell_type": "code",
   "execution_count": 42,
   "id": "f943e0e6-c835-485e-8bc6-a94fe6d0d4fb",
   "metadata": {},
   "outputs": [
    {
     "name": "stdout",
     "output_type": "stream",
     "text": [
      "Epoch 1/10\n",
      "496/500 [============================>.] - ETA: 0s - loss: 0.3430 - accuracy: 0.8632"
     ]
    },
    {
     "name": "stderr",
     "output_type": "stream",
     "text": [
      "WARNING:absl:Found untraced functions such as _update_step_xla while saving (showing 1 of 1). These functions will not be directly callable after loading.\n"
     ]
    },
    {
     "name": "stdout",
     "output_type": "stream",
     "text": [
      "INFO:tensorflow:Assets written to: binary_1gram.m\\assets\n"
     ]
    },
    {
     "name": "stderr",
     "output_type": "stream",
     "text": [
      "INFO:tensorflow:Assets written to: binary_1gram.m\\assets\n"
     ]
    },
    {
     "name": "stdout",
     "output_type": "stream",
     "text": [
      "500/500 [==============================] - 11s 20ms/step - loss: 0.3422 - accuracy: 0.8636 - val_loss: 0.2846 - val_accuracy: 0.8853\n",
      "Epoch 2/10\n",
      "500/500 [==============================] - 9s 18ms/step - loss: 0.1888 - accuracy: 0.9286 - val_loss: 0.2961 - val_accuracy: 0.8856\n",
      "Epoch 3/10\n",
      "500/500 [==============================] - 9s 18ms/step - loss: 0.1399 - accuracy: 0.9499 - val_loss: 0.3193 - val_accuracy: 0.8858\n",
      "Epoch 4/10\n",
      "500/500 [==============================] - 9s 18ms/step - loss: 0.1106 - accuracy: 0.9620 - val_loss: 0.3602 - val_accuracy: 0.8801\n",
      "Epoch 5/10\n",
      "500/500 [==============================] - 9s 18ms/step - loss: 0.0902 - accuracy: 0.9689 - val_loss: 0.3827 - val_accuracy: 0.8781\n",
      "Epoch 6/10\n",
      "500/500 [==============================] - 9s 19ms/step - loss: 0.0750 - accuracy: 0.9747 - val_loss: 0.4114 - val_accuracy: 0.8770\n",
      "Epoch 7/10\n",
      "500/500 [==============================] - 10s 19ms/step - loss: 0.0623 - accuracy: 0.9797 - val_loss: 0.4605 - val_accuracy: 0.8716\n",
      "Epoch 8/10\n",
      "500/500 [==============================] - 11s 22ms/step - loss: 0.0515 - accuracy: 0.9841 - val_loss: 0.4812 - val_accuracy: 0.8717\n",
      "Epoch 9/10\n",
      "500/500 [==============================] - 12s 23ms/step - loss: 0.0433 - accuracy: 0.9862 - val_loss: 0.5228 - val_accuracy: 0.8689\n",
      "Epoch 10/10\n",
      "500/500 [==============================] - 12s 25ms/step - loss: 0.0358 - accuracy: 0.9884 - val_loss: 0.5558 - val_accuracy: 0.8674\n"
     ]
    }
   ],
   "source": [
    "callbacks = [\n",
    "    keras.callbacks.ModelCheckpoint('binary_1gram.m', save_best_only=True)\n",
    "]\n",
    "history_1gram = model.fit(vectorized_train_ds, \n",
    "         validation_data=vectorized_val_ds,\n",
    "         epochs=10,\n",
    "         callbacks=callbacks)"
   ]
  },
  {
   "cell_type": "markdown",
   "id": "80c303f0-463e-4a1d-8743-33e9733b40ec",
   "metadata": {},
   "source": [
    "##### Test the 1-gram model performance on the test dataset "
   ]
  },
  {
   "cell_type": "code",
   "execution_count": 43,
   "id": "76d8cb7e-b979-4780-9256-be2a6e076a6e",
   "metadata": {},
   "outputs": [
    {
     "name": "stdout",
     "output_type": "stream",
     "text": [
      "782/782 [==============================] - 7s 8ms/step - loss: 0.2854 - accuracy: 0.8853\n",
      "Test acc of binary_1gram model: 0.885\n"
     ]
    }
   ],
   "source": [
    "model = keras.models.load_model(\"binary_1gram.m\")\n",
    "print(f\"Test acc of binary_1gram model: {model.evaluate(vectorized_test_ds)[1]:.3f}\")"
   ]
  },
  {
   "cell_type": "markdown",
   "id": "3d461dd9-0e75-492e-9601-e8500c80938b",
   "metadata": {},
   "source": [
    "> **Note: the 1-gram model is perfomring better than the baseline model in terms of accuracy! Next I'll check with bigram model to see if it further improves the accuracy.**"
   ]
  },
  {
   "cell_type": "markdown",
   "id": "fc9c9fea-feb8-4447-9776-889ef397006f",
   "metadata": {},
   "source": [
    "##### Bigram model\n",
    "Prepapring dataset for bigram model\n",
    "* passing ngrams = 2\n",
    "* I am choosing tf-idf as the output_mode"
   ]
  },
  {
   "cell_type": "code",
   "execution_count": 44,
   "id": "bf2d6910-9b7f-420c-8fcc-8994fd601343",
   "metadata": {},
   "outputs": [
    {
     "name": "stdout",
     "output_type": "stream",
     "text": [
      "Length of the vocabulary:  20000\n",
      "First 10 words in the vocabulary:  ['[UNK]', 'the', 'and', 'a', 'of', 'to', 'is', 'in', 'it', 'i']\n",
      "Last 10 words in the vocabulary:  ['whatever you', 'what with', 'were there', 'were talking', 'wears a', 'we think', 'we did', 'ways of', 'way over', 'was obvious']\n"
     ]
    }
   ],
   "source": [
    "# vectorized_train_ds, vectorized_val_ds, vectorized_test_ds = get_vectorized_dataset(train_ds, val_ds, test_ds, output_mode='multi_hot', ngrams=2, max_token=20000)\n",
    "vectorized_train_ds, vectorized_val_ds, vectorized_test_ds = get_vectorized_dataset(train_ds, val_ds, test_ds, output_mode='tf_idf', ngrams=2, max_token=20000)"
   ]
  },
  {
   "cell_type": "markdown",
   "id": "16441d15-578c-44be-b0ed-afa9c90ce424",
   "metadata": {},
   "source": [
    "##### Create and train the bigram model"
   ]
  },
  {
   "cell_type": "code",
   "execution_count": 48,
   "id": "6bb9b431-11fa-4552-ac4e-012195777f6e",
   "metadata": {},
   "outputs": [
    {
     "name": "stdout",
     "output_type": "stream",
     "text": [
      "Epoch 1/10\n",
      "496/500 [============================>.] - ETA: 0s - loss: 0.4098 - accuracy: 0.8486"
     ]
    },
    {
     "name": "stderr",
     "output_type": "stream",
     "text": [
      "WARNING:absl:Found untraced functions such as _update_step_xla while saving (showing 1 of 1). These functions will not be directly callable after loading.\n"
     ]
    },
    {
     "name": "stdout",
     "output_type": "stream",
     "text": [
      "INFO:tensorflow:Assets written to: bigram_model.m\\assets\n"
     ]
    },
    {
     "name": "stderr",
     "output_type": "stream",
     "text": [
      "INFO:tensorflow:Assets written to: bigram_model.m\\assets\n"
     ]
    },
    {
     "name": "stdout",
     "output_type": "stream",
     "text": [
      "500/500 [==============================] - 11s 20ms/step - loss: 0.4079 - accuracy: 0.8494 - val_loss: 0.2900 - val_accuracy: 0.8952\n",
      "Epoch 2/10\n",
      "500/500 [==============================] - 10s 20ms/step - loss: 0.1587 - accuracy: 0.9446 - val_loss: 0.3295 - val_accuracy: 0.8939\n",
      "Epoch 3/10\n",
      "500/500 [==============================] - 13s 27ms/step - loss: 0.0871 - accuracy: 0.9709 - val_loss: 0.3882 - val_accuracy: 0.8880\n",
      "Epoch 4/10\n",
      "500/500 [==============================] - 14s 28ms/step - loss: 0.0443 - accuracy: 0.9860 - val_loss: 0.4520 - val_accuracy: 0.8847\n",
      "Epoch 5/10\n",
      "500/500 [==============================] - 14s 28ms/step - loss: 0.0233 - accuracy: 0.9930 - val_loss: 0.5444 - val_accuracy: 0.8806\n",
      "Epoch 6/10\n",
      "500/500 [==============================] - 14s 29ms/step - loss: 0.0209 - accuracy: 0.9948 - val_loss: 0.5741 - val_accuracy: 0.8812\n",
      "Epoch 7/10\n",
      "500/500 [==============================] - 14s 28ms/step - loss: 0.0074 - accuracy: 0.9976 - val_loss: 0.6376 - val_accuracy: 0.8779\n",
      "Epoch 8/10\n",
      "500/500 [==============================] - 14s 27ms/step - loss: 0.0050 - accuracy: 0.9987 - val_loss: 0.9165 - val_accuracy: 0.8689\n",
      "Epoch 9/10\n",
      "500/500 [==============================] - 13s 27ms/step - loss: 0.0038 - accuracy: 0.9992 - val_loss: 0.7908 - val_accuracy: 0.8797\n",
      "Epoch 10/10\n",
      "500/500 [==============================] - 13s 25ms/step - loss: 0.0058 - accuracy: 0.9984 - val_loss: 0.8358 - val_accuracy: 0.8768\n"
     ]
    }
   ],
   "source": [
    "model = get_model()\n",
    "callbacks = [\n",
    "    keras.callbacks.ModelCheckpoint('bigram_model.m', save_best_only=True)\n",
    "]\n",
    "history_bigram = model.fit(vectorized_train_ds, \n",
    "         validation_data=vectorized_val_ds,\n",
    "         epochs=10,\n",
    "         callbacks=callbacks)"
   ]
  },
  {
   "cell_type": "markdown",
   "id": "584a47dc-7ba9-4f5a-997c-a7ee6169e760",
   "metadata": {},
   "source": [
    "##### Test the bigram model accuracy on test dataset"
   ]
  },
  {
   "cell_type": "code",
   "execution_count": 49,
   "id": "1cfb758c-49cd-48e3-af57-89bfa0581a5d",
   "metadata": {},
   "outputs": [
    {
     "name": "stdout",
     "output_type": "stream",
     "text": [
      "782/782 [==============================] - 10s 13ms/step - loss: 0.3013 - accuracy: 0.8913\n",
      "Test acc of bigram model: 0.891\n"
     ]
    }
   ],
   "source": [
    "model = keras.models.load_model(\"bigram_model.m\")\n",
    "print(f\"Test acc of bigram model: {model.evaluate(vectorized_test_ds)[1]:.3f}\")"
   ]
  },
  {
   "cell_type": "markdown",
   "id": "ec6dd6cd-50c6-45fe-8d6d-ba6116ac0367",
   "metadata": {},
   "source": [
    "> **Yes the bigram model could further improve the accuracy! But before getting too comfortable with the result, I need to monitor the training history for possible overfitting scenario. Let's plot the loss over time during training.** "
   ]
  },
  {
   "cell_type": "code",
   "execution_count": 50,
   "id": "dd1fd298-bc97-4fa8-a4f9-123c4c8835c6",
   "metadata": {},
   "outputs": [],
   "source": [
    "def plot_func(history, var):\n",
    "    hist = history.history\n",
    "    train_var = hist[var]\n",
    "    val_var = hist['val_'+var]\n",
    "    epochs = range(1, len(train_var)+1)\n",
    "    plt.plot(epochs, train_var, label='Training '+var)\n",
    "    plt.plot(epochs, val_var, label='Validation '+var)\n",
    "    plt.title('Training and validation '+var)\n",
    "    plt.xlabel('Epochs')\n",
    "    plt.ylabel(var)\n",
    "    plt.show()"
   ]
  },
  {
   "cell_type": "code",
   "execution_count": 51,
   "id": "3dc52eaa-32e8-470e-8416-28da24267876",
   "metadata": {},
   "outputs": [
    {
     "data": {
      "image/png": "[encoded data removed]",
      "text/plain": [
       "<Figure size 640x480 with 1 Axes>"
      ]
     },
     "metadata": {},
     "output_type": "display_data"
    }
   ],
   "source": [
    "plot_func(history_bigram, 'loss')"
   ]
  },
  {
   "cell_type": "markdown",
   "id": "0dca179a-d46e-44ec-a5ee-c3886f7d313f",
   "metadata": {},
   "source": [
    ">**We can clearly see that the training loss is decreasing but the validation loss is on the rise. This is a classic case of overfitting.  I'll regularize my model so that it does not overfit the training data. Adding dropout layers to my model for regularization.**"
   ]
  },
  {
   "cell_type": "code",
   "execution_count": 2,
   "id": "7ebfbd69-b107-4e33-bf45-dc1f07c3e150",
   "metadata": {},
   "outputs": [],
   "source": [
    "def get_model_with_dropout(max_tokens=20000, hidden_dim=16):\n",
    "    inputs = keras.Input(shape=(max_tokens,))\n",
    "    x = layers.Dropout(0.5)(inputs)\n",
    "    x = layers.Dense(hidden_dim, activation='relu')(x)\n",
    "    # x = layers.Dense(hidden_dim, activation='relu')(x)\n",
    "    x = layers.Dropout(0.5)(x)\n",
    "    outputs = layers.Dense(1, activation='sigmoid')(x)\n",
    "    model = keras.Model(inputs, outputs)\n",
    "    model.compile(optimizer='rmsprop',\n",
    "                 loss='binary_crossentropy',\n",
    "                 metrics=['accuracy'])\n",
    "    return model"
   ]
  },
  {
   "cell_type": "markdown",
   "id": "75ddcaef-e44b-4a0d-8e56-a49549cadcee",
   "metadata": {},
   "source": [
    "##### Creating and training model with dropout layer"
   ]
  },
  {
   "cell_type": "code",
   "execution_count": 55,
   "id": "795353fa-1e7e-4559-8922-ad393f229d1a",
   "metadata": {},
   "outputs": [
    {
     "name": "stdout",
     "output_type": "stream",
     "text": [
      "Epoch 1/10\n",
      "498/500 [============================>.] - ETA: 0s - loss: 0.5879 - accuracy: 0.7061"
     ]
    },
    {
     "name": "stderr",
     "output_type": "stream",
     "text": [
      "WARNING:absl:Found untraced functions such as _update_step_xla while saving (showing 1 of 1). These functions will not be directly callable after loading.\n"
     ]
    },
    {
     "name": "stdout",
     "output_type": "stream",
     "text": [
      "INFO:tensorflow:Assets written to: bigram_model_with_dropout.m\\assets\n"
     ]
    },
    {
     "name": "stderr",
     "output_type": "stream",
     "text": [
      "INFO:tensorflow:Assets written to: bigram_model_with_dropout.m\\assets\n"
     ]
    },
    {
     "name": "stdout",
     "output_type": "stream",
     "text": [
      "500/500 [==============================] - 18s 35ms/step - loss: 0.5876 - accuracy: 0.7061 - val_loss: 0.3378 - val_accuracy: 0.8799\n",
      "Epoch 2/10\n",
      "498/500 [============================>.] - ETA: 0s - loss: 0.4331 - accuracy: 0.8213"
     ]
    },
    {
     "name": "stderr",
     "output_type": "stream",
     "text": [
      "WARNING:absl:Found untraced functions such as _update_step_xla while saving (showing 1 of 1). These functions will not be directly callable after loading.\n"
     ]
    },
    {
     "name": "stdout",
     "output_type": "stream",
     "text": [
      "INFO:tensorflow:Assets written to: bigram_model_with_dropout.m\\assets\n"
     ]
    },
    {
     "name": "stderr",
     "output_type": "stream",
     "text": [
      "INFO:tensorflow:Assets written to: bigram_model_with_dropout.m\\assets\n"
     ]
    },
    {
     "name": "stdout",
     "output_type": "stream",
     "text": [
      "500/500 [==============================] - 15s 30ms/step - loss: 0.4331 - accuracy: 0.8212 - val_loss: 0.2941 - val_accuracy: 0.8876\n",
      "Epoch 3/10\n",
      "499/500 [============================>.] - ETA: 0s - loss: 0.3846 - accuracy: 0.8506"
     ]
    },
    {
     "name": "stderr",
     "output_type": "stream",
     "text": [
      "WARNING:absl:Found untraced functions such as _update_step_xla while saving (showing 1 of 1). These functions will not be directly callable after loading.\n"
     ]
    },
    {
     "name": "stdout",
     "output_type": "stream",
     "text": [
      "INFO:tensorflow:Assets written to: bigram_model_with_dropout.m\\assets\n"
     ]
    },
    {
     "name": "stderr",
     "output_type": "stream",
     "text": [
      "INFO:tensorflow:Assets written to: bigram_model_with_dropout.m\\assets\n"
     ]
    },
    {
     "name": "stdout",
     "output_type": "stream",
     "text": [
      "500/500 [==============================] - 15s 31ms/step - loss: 0.3842 - accuracy: 0.8507 - val_loss: 0.2838 - val_accuracy: 0.8896\n",
      "Epoch 4/10\n",
      "500/500 [==============================] - 16s 32ms/step - loss: 0.3570 - accuracy: 0.8661 - val_loss: 0.2867 - val_accuracy: 0.8901\n",
      "Epoch 5/10\n",
      "500/500 [==============================] - ETA: 0s - loss: 0.3281 - accuracy: 0.8764"
     ]
    },
    {
     "name": "stderr",
     "output_type": "stream",
     "text": [
      "WARNING:absl:Found untraced functions such as _update_step_xla while saving (showing 1 of 1). These functions will not be directly callable after loading.\n"
     ]
    },
    {
     "name": "stdout",
     "output_type": "stream",
     "text": [
      "INFO:tensorflow:Assets written to: bigram_model_with_dropout.m\\assets\n"
     ]
    },
    {
     "name": "stderr",
     "output_type": "stream",
     "text": [
      "INFO:tensorflow:Assets written to: bigram_model_with_dropout.m\\assets\n"
     ]
    },
    {
     "name": "stdout",
     "output_type": "stream",
     "text": [
      "500/500 [==============================] - 17s 33ms/step - loss: 0.3281 - accuracy: 0.8764 - val_loss: 0.2770 - val_accuracy: 0.8928\n",
      "Epoch 6/10\n",
      "500/500 [==============================] - 14s 29ms/step - loss: 0.3182 - accuracy: 0.8824 - val_loss: 0.2803 - val_accuracy: 0.8941\n",
      "Epoch 7/10\n",
      "500/500 [==============================] - ETA: 0s - loss: 0.3040 - accuracy: 0.8882"
     ]
    },
    {
     "name": "stderr",
     "output_type": "stream",
     "text": [
      "WARNING:absl:Found untraced functions such as _update_step_xla while saving (showing 1 of 1). These functions will not be directly callable after loading.\n"
     ]
    },
    {
     "name": "stdout",
     "output_type": "stream",
     "text": [
      "INFO:tensorflow:Assets written to: bigram_model_with_dropout.m\\assets\n"
     ]
    },
    {
     "name": "stderr",
     "output_type": "stream",
     "text": [
      "INFO:tensorflow:Assets written to: bigram_model_with_dropout.m\\assets\n"
     ]
    },
    {
     "name": "stdout",
     "output_type": "stream",
     "text": [
      "500/500 [==============================] - 16s 32ms/step - loss: 0.3040 - accuracy: 0.8882 - val_loss: 0.2729 - val_accuracy: 0.8962\n",
      "Epoch 8/10\n",
      "500/500 [==============================] - 15s 29ms/step - loss: 0.2913 - accuracy: 0.8907 - val_loss: 0.2895 - val_accuracy: 0.8910\n",
      "Epoch 9/10\n",
      "499/500 [============================>.] - ETA: 0s - loss: 0.2931 - accuracy: 0.8923"
     ]
    },
    {
     "name": "stderr",
     "output_type": "stream",
     "text": [
      "WARNING:absl:Found untraced functions such as _update_step_xla while saving (showing 1 of 1). These functions will not be directly callable after loading.\n"
     ]
    },
    {
     "name": "stdout",
     "output_type": "stream",
     "text": [
      "INFO:tensorflow:Assets written to: bigram_model_with_dropout.m\\assets\n"
     ]
    },
    {
     "name": "stderr",
     "output_type": "stream",
     "text": [
      "INFO:tensorflow:Assets written to: bigram_model_with_dropout.m\\assets\n"
     ]
    },
    {
     "name": "stdout",
     "output_type": "stream",
     "text": [
      "500/500 [==============================] - 16s 31ms/step - loss: 0.2932 - accuracy: 0.8923 - val_loss: 0.2695 - val_accuracy: 0.8999\n",
      "Epoch 10/10\n",
      "499/500 [============================>.] - ETA: 0s - loss: 0.2946 - accuracy: 0.8918"
     ]
    },
    {
     "name": "stderr",
     "output_type": "stream",
     "text": [
      "WARNING:absl:Found untraced functions such as _update_step_xla while saving (showing 1 of 1). These functions will not be directly callable after loading.\n"
     ]
    },
    {
     "name": "stdout",
     "output_type": "stream",
     "text": [
      "INFO:tensorflow:Assets written to: bigram_model_with_dropout.m\\assets\n"
     ]
    },
    {
     "name": "stderr",
     "output_type": "stream",
     "text": [
      "INFO:tensorflow:Assets written to: bigram_model_with_dropout.m\\assets\n"
     ]
    },
    {
     "name": "stdout",
     "output_type": "stream",
     "text": [
      "500/500 [==============================] - 16s 31ms/step - loss: 0.2942 - accuracy: 0.8920 - val_loss: 0.2684 - val_accuracy: 0.8992\n"
     ]
    }
   ],
   "source": [
    "model = get_model_with_dropout()\n",
    "# model.summary()\n",
    "callbacks = [\n",
    "    keras.callbacks.ModelCheckpoint('bigram_model_with_dropout.m', save_best_only=True)\n",
    "]\n",
    "history_bigram_with_dropout = model.fit(vectorized_train_ds, \n",
    "         validation_data=vectorized_val_ds,\n",
    "         epochs=10,\n",
    "         callbacks=callbacks)"
   ]
  },
  {
   "cell_type": "markdown",
   "id": "b7144d51-ff83-4015-8ee3-855371bba45c",
   "metadata": {},
   "source": [
    "##### Testing the model with dropout layer"
   ]
  },
  {
   "cell_type": "code",
   "execution_count": 56,
   "id": "b1684f35-d10f-4c5c-8ba4-8371b2653e39",
   "metadata": {},
   "outputs": [
    {
     "name": "stdout",
     "output_type": "stream",
     "text": [
      "782/782 [==============================] - 10s 13ms/step - loss: 0.2664 - accuracy: 0.9001\n",
      "Test acc of bigram model with dropout: 0.900\n"
     ]
    }
   ],
   "source": [
    "model = keras.models.load_model(\"bigram_model_with_dropout.m\")\n",
    "print(f\"Test acc of bigram model with dropout: {model.evaluate(vectorized_test_ds)[1]:.3f}\")"
   ]
  },
  {
   "cell_type": "markdown",
   "id": "d300215a-3735-4ba8-9d29-8a384df1b955",
   "metadata": {},
   "source": [
    "##### Plotting the train and validation loss"
   ]
  },
  {
   "cell_type": "code",
   "execution_count": 57,
   "id": "4db11db1-0fc5-4ae4-9ef7-ee7dbaae7c57",
   "metadata": {},
   "outputs": [
    {
     "data": {
      "image/png": "[encoded data removed]",
      "text/plain": [
       "<Figure size 640x480 with 1 Axes>"
      ]
     },
     "metadata": {},
     "output_type": "display_data"
    }
   ],
   "source": [
    "plot_func(history_bigram_with_dropout, 'loss')"
   ]
  },
  {
   "cell_type": "markdown",
   "id": "bad3460e-f791-4178-8174-f802de70d441",
   "metadata": {},
   "source": [
    "> **These curves look much better than the earlier model! Also, our accuracy has increased to 90% at this time. We can try for further imrpovement by using word embeddings.**"
   ]
  },
  {
   "cell_type": "code",
   "execution_count": null,
   "id": "42995f57-08ca-4b9e-8824-aef8b6467ff5",
   "metadata": {},
   "outputs": [],
   "source": []
  }
 ],
 "metadata": {
  "kernelspec": {
   "display_name": "madhobi-dl-1",
   "language": "python",
   "name": "madhobi-dl-1"
  },
  "language_info": {
   "codemirror_mode": {
    "name": "ipython",
    "version": 3
   },
   "file_extension": ".py",
   "mimetype": "text/x-python",
   "name": "python",
   "nbconvert_exporter": "python",
   "pygments_lexer": "ipython3",
   "version": "3.11.3"
  }
 },
 "nbformat": 4,
 "nbformat_minor": 5
}
